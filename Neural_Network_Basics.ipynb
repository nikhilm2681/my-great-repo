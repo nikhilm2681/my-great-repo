{
  "nbformat": 4,
  "nbformat_minor": 0,
  "metadata": {
    "colab": {
      "name": "Neural_Network_Basics",
      "provenance": [],
      "collapsed_sections": []
    },
    "kernelspec": {
      "name": "python3",
      "display_name": "Python 3"
    },
    "language_info": {
      "name": "python"
    }
  },
  "cells": [
    {
      "cell_type": "markdown",
      "metadata": {
        "id": "CqOanHWEuf1r"
      },
      "source": [
        "Deep Neural Network to Predict Cancer as melignant or benign"
      ]
    },
    {
      "cell_type": "code",
      "metadata": {
        "id": "ZTnQb06Icd9c"
      },
      "source": [
        "## IMPORTING DATASET\n",
        "\n",
        "from sklearn.datasets import load_breast_cancer\n",
        "Data = load_breast_cancer()"
      ],
      "execution_count": null,
      "outputs": []
    },
    {
      "cell_type": "code",
      "metadata": {
        "colab": {
          "base_uri": "https://localhost:8080/"
        },
        "id": "D8NyNMkIjrBh",
        "outputId": "5d732077-1190-4bb4-8e8e-faa0c4cfea0c"
      },
      "source": [
        "print(Data.DESCR)\n"
      ],
      "execution_count": null,
      "outputs": [
        {
          "output_type": "stream",
          "text": [
            ".. _breast_cancer_dataset:\n",
            "\n",
            "Breast cancer wisconsin (diagnostic) dataset\n",
            "--------------------------------------------\n",
            "\n",
            "**Data Set Characteristics:**\n",
            "\n",
            "    :Number of Instances: 569\n",
            "\n",
            "    :Number of Attributes: 30 numeric, predictive attributes and the class\n",
            "\n",
            "    :Attribute Information:\n",
            "        - radius (mean of distances from center to points on the perimeter)\n",
            "        - texture (standard deviation of gray-scale values)\n",
            "        - perimeter\n",
            "        - area\n",
            "        - smoothness (local variation in radius lengths)\n",
            "        - compactness (perimeter^2 / area - 1.0)\n",
            "        - concavity (severity of concave portions of the contour)\n",
            "        - concave points (number of concave portions of the contour)\n",
            "        - symmetry \n",
            "        - fractal dimension (\"coastline approximation\" - 1)\n",
            "\n",
            "        The mean, standard error, and \"worst\" or largest (mean of the three\n",
            "        largest values) of these features were computed for each image,\n",
            "        resulting in 30 features.  For instance, field 3 is Mean Radius, field\n",
            "        13 is Radius SE, field 23 is Worst Radius.\n",
            "\n",
            "        - class:\n",
            "                - WDBC-Malignant\n",
            "                - WDBC-Benign\n",
            "\n",
            "    :Summary Statistics:\n",
            "\n",
            "    ===================================== ====== ======\n",
            "                                           Min    Max\n",
            "    ===================================== ====== ======\n",
            "    radius (mean):                        6.981  28.11\n",
            "    texture (mean):                       9.71   39.28\n",
            "    perimeter (mean):                     43.79  188.5\n",
            "    area (mean):                          143.5  2501.0\n",
            "    smoothness (mean):                    0.053  0.163\n",
            "    compactness (mean):                   0.019  0.345\n",
            "    concavity (mean):                     0.0    0.427\n",
            "    concave points (mean):                0.0    0.201\n",
            "    symmetry (mean):                      0.106  0.304\n",
            "    fractal dimension (mean):             0.05   0.097\n",
            "    radius (standard error):              0.112  2.873\n",
            "    texture (standard error):             0.36   4.885\n",
            "    perimeter (standard error):           0.757  21.98\n",
            "    area (standard error):                6.802  542.2\n",
            "    smoothness (standard error):          0.002  0.031\n",
            "    compactness (standard error):         0.002  0.135\n",
            "    concavity (standard error):           0.0    0.396\n",
            "    concave points (standard error):      0.0    0.053\n",
            "    symmetry (standard error):            0.008  0.079\n",
            "    fractal dimension (standard error):   0.001  0.03\n",
            "    radius (worst):                       7.93   36.04\n",
            "    texture (worst):                      12.02  49.54\n",
            "    perimeter (worst):                    50.41  251.2\n",
            "    area (worst):                         185.2  4254.0\n",
            "    smoothness (worst):                   0.071  0.223\n",
            "    compactness (worst):                  0.027  1.058\n",
            "    concavity (worst):                    0.0    1.252\n",
            "    concave points (worst):               0.0    0.291\n",
            "    symmetry (worst):                     0.156  0.664\n",
            "    fractal dimension (worst):            0.055  0.208\n",
            "    ===================================== ====== ======\n",
            "\n",
            "    :Missing Attribute Values: None\n",
            "\n",
            "    :Class Distribution: 212 - Malignant, 357 - Benign\n",
            "\n",
            "    :Creator:  Dr. William H. Wolberg, W. Nick Street, Olvi L. Mangasarian\n",
            "\n",
            "    :Donor: Nick Street\n",
            "\n",
            "    :Date: November, 1995\n",
            "\n",
            "This is a copy of UCI ML Breast Cancer Wisconsin (Diagnostic) datasets.\n",
            "https://goo.gl/U2Uwz2\n",
            "\n",
            "Features are computed from a digitized image of a fine needle\n",
            "aspirate (FNA) of a breast mass.  They describe\n",
            "characteristics of the cell nuclei present in the image.\n",
            "\n",
            "Separating plane described above was obtained using\n",
            "Multisurface Method-Tree (MSM-T) [K. P. Bennett, \"Decision Tree\n",
            "Construction Via Linear Programming.\" Proceedings of the 4th\n",
            "Midwest Artificial Intelligence and Cognitive Science Society,\n",
            "pp. 97-101, 1992], a classification method which uses linear\n",
            "programming to construct a decision tree.  Relevant features\n",
            "were selected using an exhaustive search in the space of 1-4\n",
            "features and 1-3 separating planes.\n",
            "\n",
            "The actual linear program used to obtain the separating plane\n",
            "in the 3-dimensional space is that described in:\n",
            "[K. P. Bennett and O. L. Mangasarian: \"Robust Linear\n",
            "Programming Discrimination of Two Linearly Inseparable Sets\",\n",
            "Optimization Methods and Software 1, 1992, 23-34].\n",
            "\n",
            "This database is also available through the UW CS ftp server:\n",
            "\n",
            "ftp ftp.cs.wisc.edu\n",
            "cd math-prog/cpo-dataset/machine-learn/WDBC/\n",
            "\n",
            ".. topic:: References\n",
            "\n",
            "   - W.N. Street, W.H. Wolberg and O.L. Mangasarian. Nuclear feature extraction \n",
            "     for breast tumor diagnosis. IS&T/SPIE 1993 International Symposium on \n",
            "     Electronic Imaging: Science and Technology, volume 1905, pages 861-870,\n",
            "     San Jose, CA, 1993.\n",
            "   - O.L. Mangasarian, W.N. Street and W.H. Wolberg. Breast cancer diagnosis and \n",
            "     prognosis via linear programming. Operations Research, 43(4), pages 570-577, \n",
            "     July-August 1995.\n",
            "   - W.H. Wolberg, W.N. Street, and O.L. Mangasarian. Machine learning techniques\n",
            "     to diagnose breast cancer from fine-needle aspirates. Cancer Letters 77 (1994) \n",
            "     163-171.\n"
          ],
          "name": "stdout"
        }
      ]
    },
    {
      "cell_type": "code",
      "metadata": {
        "colab": {
          "base_uri": "https://localhost:8080/"
        },
        "id": "ly0j9zCHkyVH",
        "outputId": "fca8b923-0da5-410e-e723-784edc1d5f02"
      },
      "source": [
        "features = Data.data\n",
        "target = Data.target\n",
        "\n",
        "print(features.shape)\n",
        "print(target.shape)\n"
      ],
      "execution_count": null,
      "outputs": [
        {
          "output_type": "stream",
          "text": [
            "(569, 30)\n",
            "(569,)\n"
          ],
          "name": "stdout"
        }
      ]
    },
    {
      "cell_type": "code",
      "metadata": {
        "colab": {
          "base_uri": "https://localhost:8080/"
        },
        "id": "_u2-14Z8lU_b",
        "outputId": "18bf6391-48f5-4822-fa4c-490cbf6ef4eb"
      },
      "source": [
        "from sklearn.model_selection import train_test_split\n",
        "\n",
        "X_train, X_test, y_train, y_test = train_test_split(features, target, test_size=0.2)\n",
        "\n",
        "print(X_train.shape)\n",
        "print(y_train.shape)\n",
        "print(X_test.shape)\n",
        "print(y_test.shape)"
      ],
      "execution_count": null,
      "outputs": [
        {
          "output_type": "stream",
          "text": [
            "(455, 30)\n",
            "(455,)\n",
            "(114, 30)\n",
            "(114,)\n"
          ],
          "name": "stdout"
        }
      ]
    },
    {
      "cell_type": "code",
      "metadata": {
        "id": "XSck8hASmyTd"
      },
      "source": [
        "from keras.models import Sequential\n",
        "from keras.layers import Dense"
      ],
      "execution_count": null,
      "outputs": []
    },
    {
      "cell_type": "code",
      "metadata": {
        "id": "6pSAGAp_nbw0"
      },
      "source": [
        "model = Sequential()\n",
        "model.add(Dense(32, input_dim = 30, activation='relu'))  ## hidden layer 1\n",
        "model.add(Dense(64, activation='relu'))  ## hidden layer 2\n",
        "model.add(Dense(1, activation='sigmoid'))"
      ],
      "execution_count": null,
      "outputs": []
    },
    {
      "cell_type": "code",
      "metadata": {
        "id": "5JeYomPaolmj"
      },
      "source": [
        "model.compile(loss='binary_crossentropy', optimizer='adam', metrics=['accuracy'])"
      ],
      "execution_count": null,
      "outputs": []
    },
    {
      "cell_type": "code",
      "metadata": {
        "colab": {
          "base_uri": "https://localhost:8080/"
        },
        "id": "WIkevZTZo67T",
        "outputId": "3c686a08-13ef-47bf-c3fb-4d3458e506df"
      },
      "source": [
        "model.summary()"
      ],
      "execution_count": null,
      "outputs": [
        {
          "output_type": "stream",
          "text": [
            "Model: \"sequential\"\n",
            "_________________________________________________________________\n",
            "Layer (type)                 Output Shape              Param #   \n",
            "=================================================================\n",
            "dense (Dense)                (None, 32)                992       \n",
            "_________________________________________________________________\n",
            "dense_1 (Dense)              (None, 64)                2112      \n",
            "_________________________________________________________________\n",
            "dense_2 (Dense)              (None, 1)                 65        \n",
            "=================================================================\n",
            "Total params: 3,169\n",
            "Trainable params: 3,169\n",
            "Non-trainable params: 0\n",
            "_________________________________________________________________\n"
          ],
          "name": "stdout"
        }
      ]
    },
    {
      "cell_type": "code",
      "metadata": {
        "colab": {
          "base_uri": "https://localhost:8080/"
        },
        "id": "6y10Uhj2pZIT",
        "outputId": "cc41b90d-f617-406c-c41c-b275183b568f"
      },
      "source": [
        "model.fit(X_train, y_train, epochs=10, batch_size=32)"
      ],
      "execution_count": null,
      "outputs": [
        {
          "output_type": "stream",
          "text": [
            "Epoch 1/10\n",
            "15/15 [==============================] - 15s 2ms/step - loss: 133.2688 - accuracy: 0.3410\n",
            "Epoch 2/10\n",
            "15/15 [==============================] - 0s 3ms/step - loss: 14.6396 - accuracy: 0.5173\n",
            "Epoch 3/10\n",
            "15/15 [==============================] - 0s 2ms/step - loss: 6.6874 - accuracy: 0.4443\n",
            "Epoch 4/10\n",
            "15/15 [==============================] - 0s 2ms/step - loss: 2.3216 - accuracy: 0.5767\n",
            "Epoch 5/10\n",
            "15/15 [==============================] - 0s 2ms/step - loss: 1.0964 - accuracy: 0.7357\n",
            "Epoch 6/10\n",
            "15/15 [==============================] - 0s 2ms/step - loss: 0.6481 - accuracy: 0.8190\n",
            "Epoch 7/10\n",
            "15/15 [==============================] - 0s 2ms/step - loss: 0.8315 - accuracy: 0.7580\n",
            "Epoch 8/10\n",
            "15/15 [==============================] - 0s 2ms/step - loss: 0.6651 - accuracy: 0.8417\n",
            "Epoch 9/10\n",
            "15/15 [==============================] - 0s 2ms/step - loss: 0.2708 - accuracy: 0.9048\n",
            "Epoch 10/10\n",
            "15/15 [==============================] - 0s 2ms/step - loss: 0.2773 - accuracy: 0.8925\n"
          ],
          "name": "stdout"
        },
        {
          "output_type": "execute_result",
          "data": {
            "text/plain": [
              "<keras.callbacks.History at 0x7fa8a5f7ac50>"
            ]
          },
          "metadata": {
            "tags": []
          },
          "execution_count": 13
        }
      ]
    },
    {
      "cell_type": "code",
      "metadata": {
        "colab": {
          "base_uri": "https://localhost:8080/"
        },
        "id": "8dfCNjXIp6B_",
        "outputId": "28ded2e9-d24a-4155-dd27-671f5ae4342e"
      },
      "source": [
        "scores = model.evaluate(X_test, y_test)\n",
        "print(scores)    ## returns loss and accuracy"
      ],
      "execution_count": null,
      "outputs": [
        {
          "output_type": "stream",
          "text": [
            "4/4 [==============================] - 1s 3ms/step - loss: 0.3523 - accuracy: 0.8772\n",
            "[0.3523476719856262, 0.8771929740905762]\n"
          ],
          "name": "stdout"
        }
      ]
    },
    {
      "cell_type": "code",
      "metadata": {
        "colab": {
          "base_uri": "https://localhost:8080/"
        },
        "id": "r9I8hFQzqYOG",
        "outputId": "9fefefec-f8f3-48ac-a6f9-dc1c40dba5c3"
      },
      "source": [
        "predictions = model.predict(X_test)\n",
        "label=[]\n",
        "for pred in predictions:\n",
        "  if pred>=0.5:\n",
        "    print(\"Malignent\")\n",
        "  else:\n",
        "    print(\"Benign\")"
      ],
      "execution_count": null,
      "outputs": [
        {
          "output_type": "stream",
          "text": [
            "Malignent\n",
            "Malignent\n",
            "Malignent\n",
            "Benign\n",
            "Benign\n",
            "Benign\n",
            "Benign\n",
            "Benign\n",
            "Malignent\n",
            "Benign\n",
            "Malignent\n",
            "Malignent\n",
            "Benign\n",
            "Benign\n",
            "Malignent\n",
            "Malignent\n",
            "Benign\n",
            "Malignent\n",
            "Malignent\n",
            "Benign\n",
            "Malignent\n",
            "Malignent\n",
            "Benign\n",
            "Malignent\n",
            "Malignent\n",
            "Malignent\n",
            "Malignent\n",
            "Benign\n",
            "Benign\n",
            "Benign\n",
            "Malignent\n",
            "Malignent\n",
            "Malignent\n",
            "Benign\n",
            "Benign\n",
            "Malignent\n",
            "Benign\n",
            "Malignent\n",
            "Benign\n",
            "Malignent\n",
            "Benign\n",
            "Malignent\n",
            "Malignent\n",
            "Benign\n",
            "Benign\n",
            "Benign\n",
            "Benign\n",
            "Malignent\n",
            "Malignent\n",
            "Malignent\n",
            "Benign\n",
            "Malignent\n",
            "Malignent\n",
            "Benign\n",
            "Malignent\n",
            "Benign\n",
            "Benign\n",
            "Malignent\n",
            "Benign\n",
            "Benign\n",
            "Benign\n",
            "Malignent\n",
            "Malignent\n",
            "Benign\n",
            "Malignent\n",
            "Benign\n",
            "Benign\n",
            "Malignent\n",
            "Malignent\n",
            "Malignent\n",
            "Benign\n",
            "Benign\n",
            "Malignent\n",
            "Benign\n",
            "Malignent\n",
            "Malignent\n",
            "Benign\n",
            "Malignent\n",
            "Malignent\n",
            "Malignent\n",
            "Benign\n",
            "Benign\n",
            "Benign\n",
            "Benign\n",
            "Malignent\n",
            "Malignent\n",
            "Benign\n",
            "Malignent\n",
            "Malignent\n",
            "Benign\n",
            "Benign\n",
            "Benign\n",
            "Benign\n",
            "Benign\n",
            "Benign\n",
            "Malignent\n",
            "Benign\n",
            "Malignent\n",
            "Malignent\n",
            "Benign\n",
            "Benign\n",
            "Benign\n",
            "Malignent\n",
            "Malignent\n",
            "Malignent\n",
            "Benign\n",
            "Malignent\n",
            "Malignent\n",
            "Malignent\n",
            "Benign\n",
            "Malignent\n",
            "Malignent\n",
            "Benign\n",
            "Benign\n"
          ],
          "name": "stdout"
        }
      ]
    }
  ]
}